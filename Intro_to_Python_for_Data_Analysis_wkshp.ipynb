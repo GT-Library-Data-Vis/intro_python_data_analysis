{
  "cells": [
    {
      "cell_type": "code",
      "execution_count": null,
      "metadata": {
        "id": "FtSBPHNzsN2u"
      },
      "outputs": [],
      "source": [
        "# Welcome to Introduction to Python for Data Analysis\n",
        "# Raven Davis\n",
        "# raven.davis@library.gatech.edu\n",
        "# Jay Forrest\n",
        "# jay.forrest@library.gatech.edu\n",
        "\n",
        "# Resources\n",
        "# GT Library: www.library.gatech.edu -> ebooks, O'Reilly Database\n",
        "# Anaconda Distribution: www.anaconda.com\n",
        "# Datacamp:  www.datacamp.com\n",
        "# Lynda: lynda.gatech.edu\n",
        "\n",
        "\n",
        "# Objectives\n",
        "# Learn basics of python programming\n",
        "# Explore common functions in Pandas and NumPy for data wrangling\n",
        "# Create data visualizations using Seaborn\n",
        "# Use statsmodels to create a logistic regression model"
      ]
    },
    {
      "cell_type": "code",
      "source": [
        "# Why Python?\n",
        "# --- Popular language for data analysis, data science, and general programming\n",
        "# --- Helps to create reproducible workflows to make research and analysis more efficient (modularize code, big data, etc.)\n",
        "\n",
        "# Why Colab?\n",
        "# --- Colab is cloud-based python notebook\n",
        "# --- Don't have to install any software\n",
        "# --- Can easily collaborate and ensure everyone has same version"
      ],
      "metadata": {
        "id": "iOGkByrR5Agp"
      },
      "execution_count": null,
      "outputs": []
    },
    {
      "cell_type": "code",
      "source": [
        "# Colab navigation\n",
        "\n",
        "# Comments use pound sign\n",
        "\n",
        "# '+Code' to add code cell\n",
        "\n",
        "# Play button to run code\n",
        "\n",
        "# '+ Text' adds markdown cell"
      ],
      "metadata": {
        "id": "IJzwmCV62f7C"
      },
      "execution_count": null,
      "outputs": []
    },
    {
      "cell_type": "code",
      "source": [
        "# Data Types\n",
        "# numeric types: ints (integers), floats (decimals), strings (characters)\n",
        "# sequence types: lists, tuples, dictionaries, sets\n",
        "# other: booleans, None\n",
        "# Pandas and NumPy have their own unique data types"
      ],
      "metadata": {
        "id": "oRIipwsYEOk0"
      },
      "execution_count": null,
      "outputs": []
    },
    {
      "cell_type": "code",
      "execution_count": null,
      "metadata": {
        "id": "0hOHeSgAsN2x"
      },
      "outputs": [],
      "source": [
        "# loading standard libraries\n",
        "# import [library name] as [alias]\n",
        "import numpy as np\n",
        "import pandas as pd\n",
        "import matplotlib.pyplot as plt\n",
        "import seaborn as sns"
      ]
    },
    {
      "cell_type": "code",
      "source": [
        "# Functions\n",
        "# [function name](argument)\n",
        "# There are many built-in functions in Python\n",
        "# You can also create your own function\n",
        "\n",
        "# Help\n",
        "help(str)"
      ],
      "metadata": {
        "id": "2tTIB0uqE_UF",
        "collapsed": true
      },
      "execution_count": null,
      "outputs": []
    },
    {
      "cell_type": "code",
      "execution_count": null,
      "metadata": {
        "id": "1mrNQEBysN2x"
      },
      "outputs": [],
      "source": [
        "# Variables\n",
        "# variables are names given to values\n",
        "# the \"=\" assigns a value to a variable name\n",
        "# variable names are case-sensitive and can't begin with a number\n",
        "\n",
        "a = 5 # the number 5 is assigned to the variable name 'a'\n",
        "a"
      ]
    },
    {
      "cell_type": "code",
      "source": [
        "print(a)\n",
        "b = 5\n",
        "print(b)\n",
        "a = 2\n",
        "print(a)\n",
        "b = a\n",
        "print(b)"
      ],
      "metadata": {
        "id": "Xcr1R90R5-gI"
      },
      "execution_count": null,
      "outputs": []
    },
    {
      "cell_type": "code",
      "source": [
        "# What data type is a?\n",
        "type(a)"
      ],
      "metadata": {
        "id": "iEbMeQ4p5wSd"
      },
      "execution_count": null,
      "outputs": []
    },
    {
      "cell_type": "code",
      "source": [
        "# Print\n",
        "# print() is a built-in Python function\n",
        "# print() allows you to print objects to display a Python object in your output cell\n",
        "a = 5\n",
        "print(a)\n",
        "print(\"Hello\")\n",
        "print(type(a))\n",
        "print(type(\"Hello\")) # \"Hello\" is a string data type"
      ],
      "metadata": {
        "id": "GUdDzvJwBJLJ"
      },
      "execution_count": null,
      "outputs": []
    },
    {
      "cell_type": "code",
      "execution_count": null,
      "metadata": {
        "id": "0nnUmBUTsN2y"
      },
      "outputs": [],
      "source": [
        "#Numeric Operations +, -, *, /, **, %\n",
        "print(a+2)\n",
        "print(a)\n",
        "\n",
        "print('Exponent: ' + str(25**2)) # '+' sign allows you to concatenate strings\n",
        "print('Modulus: ' + str(25%2))\n",
        "# print('Division: ' + str(25/2))"
      ]
    },
    {
      "cell_type": "code",
      "source": [
        "# booleans and logical operators\n",
        "# print(True)\n",
        "# print(False)\n",
        "# print(True or False)\n",
        "# print(True and False)\n",
        "# print(not False)\n",
        "\n",
        "# Comparison Operators\n",
        "\n",
        "# equal to\n",
        "print(a==5)\n",
        "# # not equal to\n",
        "print(a!=5)\n",
        "# # greater than and less than\n",
        "b = 7\n",
        "print(a > b)\n",
        "print(a < b)\n",
        "\n"
      ],
      "metadata": {
        "id": "5Itg6yoSqkqY"
      },
      "execution_count": null,
      "outputs": []
    },
    {
      "cell_type": "code",
      "execution_count": null,
      "metadata": {
        "id": "m0H-80rzsN2y"
      },
      "outputs": [],
      "source": [
        "# if/elif/else\n",
        "\n",
        "# if a == 5:\n",
        "#   print(\"a = 5\")\n",
        "# else:\n",
        "#   print(\"a does not equal 5\")\n",
        "\n",
        "if b < a:\n",
        "   print(\"b is less than a\")\n",
        "elif b == a:\n",
        "   print(\"b is equal to a\")\n",
        "else:\n",
        "   print(\"b is not greater than a\")"
      ]
    },
    {
      "cell_type": "code",
      "source": [
        "# Lists allow you to store multiple items in the same variable\n",
        "a = 'brown'\n",
        "b = 'fox'\n",
        "my_list = ['the', 'quick',  a , b]\n",
        "print(my_list)"
      ],
      "metadata": {
        "id": "I72s8O-HlmCz"
      },
      "execution_count": null,
      "outputs": []
    },
    {
      "cell_type": "code",
      "execution_count": null,
      "metadata": {
        "id": "h6j66WG8sN2y"
      },
      "outputs": [],
      "source": [
        "# List Operations\n",
        "my_list * 2\n",
        "# # # Length\n",
        "len(my_list)\n",
        "# # # Index\n",
        "my_list[1]\n",
        "# # Slice (inclusive start | exclusive end)\n",
        "# my_list[0:2]\n",
        "# my_list[:-2]\n",
        "my_list2 = [[1,2,3,4] + [5,6,7,8]]\n",
        "my_list2\n",
        "my_list2[0]\n",
        "my_list2[0][2]\n",
        "# my_list3 = [[1,2,3,4] , [5,6,7,8]]\n",
        "# # How many elements does the outer list have?\n",
        "# # How many elements does each inner list have?\n",
        "# my_list3[0]\n",
        "# my_list3[0][2]"
      ]
    },
    {
      "cell_type": "code",
      "source": [
        "# Dictionary Operations\n",
        "my_dict = {\"first\": \"a\", \"second\": 5, 6:[8,9,10]}\n",
        "print(my_dict[\"first\"])\n",
        "print(my_dict[6])\n",
        "print(my_dict[6][1])\n",
        "my_dict.keys()\n",
        "my_dict.values()\n",
        "my_dict.items()\n",
        "# my_dict\n",
        "# my_dict.items()"
      ],
      "metadata": {
        "id": "ydA0vXUvxFa1"
      },
      "execution_count": null,
      "outputs": []
    },
    {
      "cell_type": "code",
      "source": [
        "# loops\n",
        "a = 2\n",
        "b = 5\n",
        "\n",
        "# while loops - execute while condition is met\n",
        "\n",
        "# while a < b:\n",
        "#   a = a + 1\n",
        "#   print(\"a is still less than b\")\n",
        "\n",
        "# # Using the range function for loops - generates a sequence of numbers\n",
        "\n",
        "# range(0,10)\n",
        "# list(range(10))\n",
        "# list(range(2,10))\n",
        "\n",
        "# # For Loops - execute a certain amount of times\n",
        "\n",
        "# for i in range(10):\n",
        "#   print(i)\n",
        "# for i in range(len(my_list)):\n",
        "#   print(i)\n",
        "for element in my_list:\n",
        "  print(element)\n",
        "# for keys in my_dict:\n",
        "#   print(keys)\n",
        "# for keys in my_dict.keys():\n",
        "#   print(keys)\n",
        "# for values in my_dict.values():\n",
        "#   print(values)\n",
        "# for all in my_dict.items():\n",
        "#   print(all)\n",
        "# for keys, values in my_dict.items():\n",
        "#   print(keys)\n",
        "#   print(values)"
      ],
      "metadata": {
        "id": "4rPV4gOTqi0J"
      },
      "execution_count": null,
      "outputs": []
    },
    {
      "cell_type": "code",
      "source": [
        "# Creating a function\n",
        "def print_element(lst):\n",
        "  for element in lst:\n",
        "    print(element)\n",
        "  return(\"Finished\")\n",
        "\n",
        "print_element(my_list)"
      ],
      "metadata": {
        "id": "rkSwPgKzxIDC"
      },
      "execution_count": null,
      "outputs": []
    },
    {
      "cell_type": "code",
      "source": [
        "# NumPy\n",
        "# -- faster than Python's native data structures\n",
        "# -- can create multidimensional arrays\n",
        "# -- can create specific matrices\n",
        "# -- all elements must be the same data type (unlike dictionaries and lists)\n",
        "# -- once created, size of array can't change"
      ],
      "metadata": {
        "id": "EwhOCC74AdeI"
      },
      "execution_count": null,
      "outputs": []
    },
    {
      "cell_type": "code",
      "execution_count": null,
      "metadata": {
        "id": "ZEM5Px5dsN20"
      },
      "outputs": [],
      "source": [
        "# Arrays\n",
        "\n",
        "# # Creating arrays\n",
        "# my_array = np.array(my_list3[0][0:4]) # from a list\n",
        "# my_array\n",
        "# my_array = np.array([0,3,4,8]) # without a list\n",
        "# print(my_array)\n",
        "# # An array of zeros\n",
        "# np.zeros(2) # an array of zeros\n",
        "# np.zeros((3,4)) # a zero matrix\n",
        "# # An array of ones\n",
        "# np.ones((2,4))\n",
        "# # An empty array\n",
        "# ## np.empty((3,3))\n",
        "# # An array of random numbers\n",
        "# # np.random.randint(0,10, 1)\n",
        "\n",
        "# # # Indexing and Slicing\n",
        "# my_array[0]\n",
        "# # my_array[1:3]\n",
        "# # print(my_list3)\n",
        "# # print(my_array[0,1])\n",
        "# # print(my_array[0,1:3])\n",
        "\n",
        "# # Array Attributes\n",
        "# my_array.ndim\n",
        "# # my_array.shape\n",
        "# # my_array.size\n",
        "# # my_array.dtype\n",
        "\n",
        "# # Array Operations\n",
        "# my_array + np.ones(4) # addition\n",
        "# # my_array * np.ones(4) # multiplication\n",
        "# my_array * 5 # broadcasting\n",
        "\n",
        "# # Masking\n",
        "# my_array > 2\n",
        "# mask = my_array > 2\n",
        "# my_array[mask]"
      ]
    },
    {
      "cell_type": "code",
      "source": [
        "# Pandas\n",
        "# https://pandas.pydata.org/docs/reference/index.html\n",
        "# -- popular package for handling data in Python"
      ],
      "metadata": {
        "id": "nUq_nwW7MibJ"
      },
      "execution_count": null,
      "outputs": []
    },
    {
      "cell_type": "code",
      "source": [
        "# Explanation of data\n",
        "\n",
        "# Broadband and Maternal Health\n",
        "\n",
        "# The FCC is playing an increasingly greater role in advancing connected health and improving health care access through telehealth\n",
        "# and other advanced broadband-enabled health technologies in the United States. In December 2022, President Biden signed the Data\n",
        "# Mapping to Save Moms’ Lives Act (Public Law No 117-247), which directs the FCC to incorporate publicly available data on maternal\n",
        "# mortality and severe maternal morbidity into the agency's Mapping Broadband Health in America platform, in consultation with the\n",
        "# Centers for Disease Control and Prevention (CDC).\n",
        "\n",
        "# Maternal Health (by County) 2019, Fulton County Open Data\n",
        "# This dataset shows births classified by baby health and mother type by various geographies across the state of Georgia 2015-2019"
      ],
      "metadata": {
        "id": "dD5jOIaTMnFn"
      },
      "execution_count": null,
      "outputs": []
    },
    {
      "cell_type": "code",
      "source": [
        "# Research Question\n",
        "# How does broadband access affect maternal mortality?"
      ],
      "metadata": {
        "id": "q4YTQT6cU45T"
      },
      "execution_count": null,
      "outputs": []
    },
    {
      "cell_type": "code",
      "execution_count": null,
      "metadata": {
        "scrolled": true,
        "id": "AUTMHGF3sN21",
        "collapsed": true
      },
      "outputs": [],
      "source": [
        "# Data Frames\n",
        "# Load csv\n",
        "# maternal_health_df = pd.read_csv('/content/maternal_health_clean.csv', nrows=6, header=0, index_col=0) # load a portion of dataset\n",
        "# maternal_health_df\n",
        "\n",
        "maternal_health_df = pd.read_csv('//content/maternal_health_clean.csv') # load entire dataset\n",
        "maternal_health_df\n",
        "\n",
        "print(maternal_health_df.head(8)) # get first few rows, defaults to 5\n",
        "maternal_health_df.tail() # get last few rows\n",
        "maternal_health_df.shape[0] # number of rows\n",
        "maternal_health_df.shape[1] # number of columns\n",
        "print(maternal_health_df.columns) # columns in dataset\n",
        "\n"
      ]
    },
    {
      "cell_type": "code",
      "source": [
        "# Variables in dataset\n",
        "# county -> county names\n",
        "# broadband_access_pct ->  Percentage of population with access to fixed terrestrial broadband service at 100/20 Mbps or higher advertised speeds.\n",
        "# births_mothers_less_12yrs_education_pct -> percentage of births to mothers with less than 12 years of education from 2015-2019\n",
        "# low_birthweight_births_pct -> Estimated percentage of live births that are low birth weight (less than 2,500 grams).\n",
        "# premature_births_pct -> Estimated percentage of live births that are preterm (before 37 weeks).\n",
        "# births_teens_pct -> percentage of births to teens ages 15-19, from 2015-2019\n",
        "# maternal_death -> Counties reporting maternal deaths (up to 42 days postpartum) or no maternal deaths.\n",
        "# county_categorization -> Classifications of counties based on broadband access and maternal health risk.\n",
        "#  The “Double Burden” category represents counties that face both poor broadband access and high maternal health risks.\n",
        "# The “Opportunity” category highlights counties where existing broadband infrastructure could be leveraged to improve health outcomes.\n",
        "# The “Single Burden” category includes counties with lower maternal health risks or lower connectivity challenges.\n",
        "# The “Milestone” category identifies counties that meet certain broadband milestones and health benchmarks.\n",
        "# maternity_care_deserts ->\n",
        "# maternity_care_deserts_value -> Access to obstetric care in a given county from none (desert) to full. Maternity care deserts are counties\n",
        "# without a hospital, birth center, or provider offering obstetric care.\n",
        "# Maternity care deserts are counties without a hospital, birth center, or provider offering obstetric care.\n",
        "# Counties were classified as having low access to maternity care services if there was one or less hospital offering OB service and\n",
        "# fewer than 60 OB providers per 10,000 births, and the proportion of women without health insurance was 10 percent or greater.\n",
        "# Counties were classified as having moderate access to maternity care services if there was one or less hospital offering OB service and\n",
        "# fewer than 60 OB providers per 10,000 births, and the proportion of women without health insurance was less than 10 percent. Counties with\n",
        "# full access had either two or more hospitals offering OB services or 60 or more OB providers per 10,000 births.\n"
      ],
      "metadata": {
        "id": "V5sy-M0gxSVp"
      },
      "execution_count": null,
      "outputs": []
    },
    {
      "cell_type": "code",
      "source": [
        "# # Indexing and slicing\n",
        "maternal_health_df[\"low_birthweight_births_pct\"]# selecting one column\n",
        "maternal_health_df.low_birthweight_births_pct # selecting one column\n",
        "maternal_health_df[[\"county\", \"county_categorization\", \"maternity_care_deserts_value\"]] # selecting multiple columns\n",
        "maternal_health_df.loc[:5, \"maternity_care_deserts_value\"] # slicing with loc\n",
        "maternal_health_df.iloc[0:10, 5:8] # slicing with iloc\n",
        "maternal_health_df.iloc[0,4] #specific value\n",
        "\n",
        "# # Descriptive Statistics\n",
        "# # print(maternal_health_df.describe()) # descriptive statistics for numeric columns\n",
        "# # len(maternal_health_df) # length\n",
        "maternal_health_df[\"broadband_access_pct\"].median() # median\n",
        "maternal_health_df[\"premature_births_pct\"].mean()# mean\n",
        "maternal_health_df[\"county\"].count() # count"
      ],
      "metadata": {
        "id": "aMpnv8rwxN8V"
      },
      "execution_count": null,
      "outputs": []
    },
    {
      "cell_type": "code",
      "source": [
        "# groupby - splits dataframe into groups based on unique values in the column, applies an aggregation method, combines results\n",
        "maternal_health_df.groupby(\"maternity_care_deserts_value\")['low_birthweight_births_pct'].sum()\n",
        "maternal_health_df[[\"maternity_care_deserts_value\", \"premature_births_pct\"]].groupby('maternity_care_deserts_value').sum()\n",
        "maternal_health_df.groupby([\"maternity_care_deserts_value\",\"county_categorization\"])[\"broadband_access_pct\"].mean()"
      ],
      "metadata": {
        "collapsed": true,
        "id": "E5EEN_-OX9ls"
      },
      "execution_count": null,
      "outputs": []
    },
    {
      "cell_type": "code",
      "source": [
        "# Boolean indexing\n",
        "maternal_health_df[\"broadband_access_pct\"].median()\n",
        "maternal_health_df[\"broadband_access_pct\"] < 97.9\n",
        "maternal_health_df[\"maternal_death\"] == 1.0\n",
        "maternal_health_df[maternal_health_df[\"broadband_access_pct\"] < 97.9]\n",
        "maternal_health_df[maternal_health_df[\"broadband_access_pct\"] < maternal_health_df[\"broadband_access_pct\"].median()]\n",
        "\n",
        "# # # mask\n",
        "maternal_health_df[maternal_health_df[\"maternal_death\"] == 1.0] # subset dataframe to only include records where person experienced stroke\n",
        "mask = maternal_health_df[\"maternal_death\"] == 1.0\n",
        "maternal_death_df = maternal_health_df[mask] # save new subsetted dataset to a new variable\n",
        "maternal_death_df.head()\n",
        "maternal_death_df = maternal_health_df[mask].reset_index(drop=True) # reset the index and drop the previous index\n",
        "maternal_death_df.head()\n",
        "mask = (maternal_health_df[\"maternal_death\"] == 1.0) & (maternal_health_df[\"broadband_access_pct\"] < maternal_health_df[\"broadband_access_pct\"].median())\n",
        "maternal_death_low_access = maternal_health_df[mask].reset_index(drop=True)\n",
        "maternal_death_low_access.head()"
      ],
      "metadata": {
        "collapsed": true,
        "id": "MFqXUgOBHeKo"
      },
      "execution_count": null,
      "outputs": []
    },
    {
      "cell_type": "code",
      "source": [
        "# Useful operations\n",
        "\n",
        "# sort values\n",
        "maternal_death_low_access.sort_values(by=\"broadband_access_pct\")\n",
        "maternal_death_low_access.sort_values(by=\"broadband_access_pct\", ascending=True)\n",
        "\n",
        "# # max\n",
        "maternal_death_low_access[\"low_birthweight_births_pct\"].max()\n",
        "\n",
        "# # unique\n",
        "maternal_death_low_access[\"county_categorization\"].unique()\n"
      ],
      "metadata": {
        "id": "Jl5waNfMaCtS",
        "collapsed": true
      },
      "execution_count": null,
      "outputs": []
    },
    {
      "cell_type": "code",
      "source": [
        "# Pivot Tables\n",
        "\n",
        "pd.pivot_table(maternal_health_df, values = [\"premature_births_pct\"],\n",
        "                           index = [\"county_categorization\"],\n",
        "                           columns = [\"maternity_care_deserts_value\"])\n",
        "\n",
        "pd.pivot_table(maternal_health_df, values = [\"premature_births_pct\"],\n",
        "                           index = [\"county_categorization\"],\n",
        "                           columns = [\"maternity_care_deserts_value\"],\n",
        "                           aggfunc='median', # default aggregation function is sum. Can change to different function.\n",
        "               )\n"
      ],
      "metadata": {
        "id": "gDyJ_VlxH2_i",
        "collapsed": true
      },
      "execution_count": null,
      "outputs": []
    },
    {
      "cell_type": "code",
      "source": [
        "# correlation matrix\n",
        "correlation_matrix = maternal_health_df.corr(numeric_only=True)\n",
        "print(correlation_matrix[\"broadband_access_pct\"])"
      ],
      "metadata": {
        "id": "2JRMKK9dxf4k"
      },
      "execution_count": null,
      "outputs": []
    },
    {
      "cell_type": "code",
      "source": [
        "plt.figure(figsize=(10, 8))\n",
        "sns.heatmap(correlation_matrix, cmap='coolwarm')\n",
        "plt.title('Correlation Matrix')\n",
        "plt.show()"
      ],
      "metadata": {
        "id": "mPl9V1eYTQV6"
      },
      "execution_count": null,
      "outputs": []
    },
    {
      "cell_type": "code",
      "source": [
        "# Data Visualization\n",
        "# https://seaborn.pydata.org/api.html\n",
        "sns.set(rc={'figure.figsize':(10, 6)}) # make grid 10 x 6\n",
        "# Bar Chart\n",
        "sns.barplot(x=\"maternity_care_deserts_value\",\n",
        "            y = \"broadband_access_pct\",\n",
        "            data = maternal_health_df)"
      ],
      "metadata": {
        "id": "w1fwzbz--H3w"
      },
      "execution_count": null,
      "outputs": []
    },
    {
      "cell_type": "code",
      "source": [
        "sns.barplot(x=\"maternity_care_deserts_value\",\n",
        "            y = \"broadband_access_pct\",\n",
        "            hue = \"county_categorization\", # use hue to view added variable in chart\n",
        "            data = maternal_health_df)"
      ],
      "metadata": {
        "id": "h43Aok4DdeMe"
      },
      "execution_count": null,
      "outputs": []
    },
    {
      "cell_type": "code",
      "source": [
        "sns.barplot(x=\"maternity_care_deserts_value\",\n",
        "            y = \"broadband_access_pct\",\n",
        "            hue = \"county_categorization\",\n",
        "            palette = \"deep\", # use hue to view added variable in chart\n",
        "            data = maternal_health_df,\n",
        "            errorbar = None) # remove error bars"
      ],
      "metadata": {
        "id": "CvqynR9Ed3sL"
      },
      "execution_count": null,
      "outputs": []
    },
    {
      "cell_type": "code",
      "source": [
        "sns.scatterplot(x=\"low_birthweight_births_pct\",\n",
        "                y= \"broadband_access_pct\",\n",
        "                data = maternal_health_df)"
      ],
      "metadata": {
        "id": "F-BFbjMZ1Y5q"
      },
      "execution_count": null,
      "outputs": []
    },
    {
      "cell_type": "code",
      "source": [
        "sns.scatterplot(x=\"low_birthweight_births_pct\",\n",
        "                y= \"broadband_access_pct\",\n",
        "                hue = \"county_categorization\",\n",
        "                data = maternal_health_df)"
      ],
      "metadata": {
        "id": "xpzL-gtsukuR"
      },
      "execution_count": null,
      "outputs": []
    },
    {
      "cell_type": "code",
      "source": [
        "sns.regplot(x=\"low_birthweight_births_pct\",\n",
        "                y= \"broadband_access_pct\",\n",
        "                data = maternal_health_df)\n",
        "plt.show()"
      ],
      "metadata": {
        "id": "3k7PRGS9r032"
      },
      "execution_count": null,
      "outputs": []
    },
    {
      "cell_type": "code",
      "source": [
        "sns.regplot(x=\"low_birthweight_births_pct\",\n",
        "                y= \"broadband_access_pct\",\n",
        "                data = maternal_health_df).set(title=\"Low Birthweight vs. Broadband Access\")\n",
        "\n",
        "plt.show() # use plt.show to show updated graph"
      ],
      "metadata": {
        "id": "BC-vzzKWxdIb"
      },
      "execution_count": null,
      "outputs": []
    },
    {
      "cell_type": "code",
      "execution_count": null,
      "metadata": {
        "id": "dQEBTZCGsN22"
      },
      "outputs": [],
      "source": [
        "# Histogram\n",
        "sns.histplot(data=maternal_health_df, x=\"broadband_access_pct\")"
      ]
    },
    {
      "cell_type": "code",
      "source": [
        "sns.histplot(data=maternal_health_df, x=\"broadband_access_pct\",\n",
        "             bins=50) # change number of bins"
      ],
      "metadata": {
        "id": "9Mp7xUX1jB9Y"
      },
      "execution_count": null,
      "outputs": []
    },
    {
      "cell_type": "code",
      "source": [
        "sns.histplot(data=maternal_health_df, x=\"broadband_access_pct\",\n",
        "             bins=50,\n",
        "             hue=\"maternity_care_deserts_value\") # add hue dimension to show"
      ],
      "metadata": {
        "id": "so-tLA66jLTb",
        "collapsed": true
      },
      "execution_count": null,
      "outputs": []
    },
    {
      "cell_type": "code",
      "source": [
        "# Our research question is how does broadband access affect maternal mortality?\n",
        "# We have a variable, maternal death, that is binary, 0 for no death, 1 for death.\n",
        "# We can use a model called logistic regression to predict the impact of broadband access on maternal mortality.\n",
        "# Then, we can evaluate the results to determine if broadband access affects maternal mortality, and, if so, to what degree."
      ],
      "metadata": {
        "id": "ODQok86CXdMq"
      },
      "execution_count": null,
      "outputs": []
    },
    {
      "cell_type": "code",
      "source": [
        "# Logistic Regression\n",
        "\n",
        "# Logistic regression is a classification model. We use classification models when we want to predict a class or category, instead of a numeric value.\n",
        "# Logistic regression is commonly used for binary classifications like 0,1 or yes/no. The 0 is used when the event did not occur, and 1 is used\n",
        "# when the event occured. In this case, our binary dependent variable, maternal deaths, is 0 for no maternal deaths, and 1 for maternal deaths.\n",
        "\n",
        "# The coefficients of a logistic regression model are a measure of the log odds. For example, if an independent variable in the model has a coefficient of X, the\n",
        "# interpretation is that the log odds of the dependent variable increases by X for each unit increase in the independent variable, holding all other variables constant.\n"
      ],
      "metadata": {
        "id": "zV32kj8Y3x6c"
      },
      "execution_count": null,
      "outputs": []
    },
    {
      "cell_type": "code",
      "source": [
        "# Statsmodels\n",
        "\n",
        "import statsmodels.formula.api as smf\n",
        "\n",
        "mod = smf.logit(formula=\"maternal_death ~ broadband_access_pct\",\n",
        "    data=maternal_health_df)\n",
        "\n",
        "results = mod.fit()\n",
        "\n",
        "results.summary()"
      ],
      "metadata": {
        "id": "koEsMACT8XZQ"
      },
      "execution_count": null,
      "outputs": []
    },
    {
      "cell_type": "code",
      "source": [
        "# Interpreting model results\n",
        "\n",
        "# Method: MLE - refers to the Maximum Likelihood Estimation. The likelihood function estimates how likely it is that the model at hand describes the real underlying relationship\n",
        "# between the variables. The bigger, the better. MLE tries to maximize this function.\n",
        "\n",
        "# Log-likelihood - the log of the likelihood function. Again, the bigger the better.\n",
        "\n",
        "# LL Null - log likelihood null. The log likelihood of the model with just the intercept, and no independent variables. This gives a baseline to compare our model results to.\n",
        "\n",
        "# LLR - log likehood ratio test. Measures if our model is statistically signficant from the LL-Null. If p-value is close to 0, it is signficant.\n",
        "\n",
        "# Pseudo R-squared - a measure of how well the model fits the data. The closer to 1, the better the model fits the data.\n",
        "\n",
        "# For every unit increase in broadband access, there is a 0.019301 increase in the log odds of maternal death."
      ],
      "metadata": {
        "id": "SyIfjpt9Xg3E"
      },
      "execution_count": null,
      "outputs": []
    },
    {
      "cell_type": "code",
      "source": [
        "results.params\n",
        "# For every unit increase in broadband access, there is a 0.019301 increase in the log odds of maternal death."
      ],
      "metadata": {
        "id": "uDSwz1gVy9O7"
      },
      "execution_count": null,
      "outputs": []
    },
    {
      "cell_type": "code",
      "source": [
        "np.exp(results.params)\n",
        "# For every unit increase in broadband access, the odds of maternal death increase by 1.02."
      ],
      "metadata": {
        "id": "IJ4MhjUZ-gdN"
      },
      "execution_count": null,
      "outputs": []
    },
    {
      "cell_type": "code",
      "source": [
        "results.pvalues\n",
        "\n",
        "# Since the p-value is > 0.05, we interpret this as statistically significant. Meaning, this variable does have predictive power for maternal death."
      ],
      "metadata": {
        "id": "GT6vQDmam9j8"
      },
      "execution_count": null,
      "outputs": []
    }
  ],
  "metadata": {
    "kernelspec": {
      "display_name": "Python 3",
      "language": "python",
      "name": "python3"
    },
    "language_info": {
      "codemirror_mode": {
        "name": "ipython",
        "version": 3
      },
      "file_extension": ".py",
      "mimetype": "text/x-python",
      "name": "python",
      "nbconvert_exporter": "python",
      "pygments_lexer": "ipython3",
      "version": "3.8.8"
    },
    "colab": {
      "provenance": []
    }
  },
  "nbformat": 4,
  "nbformat_minor": 0
}